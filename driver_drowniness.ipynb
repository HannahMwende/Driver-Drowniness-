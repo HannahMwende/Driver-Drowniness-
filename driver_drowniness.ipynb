{
  "nbformat": 4,
  "nbformat_minor": 0,
  "metadata": {
    "colab": {
      "provenance": [],
      "collapsed_sections": [],
      "include_colab_link": true
    },
    "kernelspec": {
      "name": "python3",
      "display_name": "Python 3"
    },
    "language_info": {
      "name": "python"
    },
    "accelerator": "GPU",
    "gpuClass": "standard"
  },
  "cells": [
    {
      "cell_type": "markdown",
      "metadata": {
        "id": "view-in-github",
        "colab_type": "text"
      },
      "source": [
        "<a href=\"https://colab.research.google.com/github/HannahMwende/Driver-Drowniness-dectection-system/blob/main/driver_drowniness.ipynb\" target=\"_parent\"><img src=\"https://colab.research.google.com/assets/colab-badge.svg\" alt=\"Open In Colab\"/></a>"
      ]
    },
    {
      "cell_type": "markdown",
      "source": [
        "# Driver drowniness detection system\n",
        "\n",
        "\n"
      ],
      "metadata": {
        "id": "8301NRl8CLsu"
      }
    },
    {
      "cell_type": "markdown",
      "source": [
        "#### Authors\n",
        "* Ann Maureen\n",
        "* Hannah Mutua\n",
        "* Ibrahim Hafiz\n",
        "* Samuel Kabati\n",
        "* Angela Cheruto\n",
        "* Janet Gachoki"
      ],
      "metadata": {
        "id": "K-ijre_j-pRj"
      }
    },
    {
      "cell_type": "markdown",
      "source": [
        "## 1. Business understanding"
      ],
      "metadata": {
        "id": "ieJaHyQnnjZl"
      }
    },
    {
      "cell_type": "markdown",
      "source": [
        "###1.1 Introduction\n",
        "Drowsy Driving is the act of driving while feeling fatigued or sleepy. There are various factors that can contribute to drowsy driving. Sleep depletion, sleep disorders, medication, stress, drunk driving, or extended hours for shift work are some of the factors. Drowsy driving can have a number of effects on the driver such as poor judgment, loss of attention, and delayed reaction times.<br>\n",
        "\n",
        "A report by the National Security Council (NSC) shows that in the United States, drowsy driving accounts for about 100,000 crashes, 71000 injuries, and 1550 fatalities annually. Another report by American Automobile Association (AAA) shows that 9.5% of car crashes are caused by drowsy driving and 27% of drivers admit that they have a difficult time keeping their eyes open while driving if they are tired.<br>\n",
        "\n",
        "In Kenya, a report by the  National Transport and Safety Authority shows that the number of people killed and injured in road crashes went up by 17.5% in September 2021 as compared to the same period in 2020. Falling asleep at the wheel is one of the major causes of these accidents. Research has indicated that going more than 20 hours without sleep is the equivalent of having a blood-alcohol concentration of 0.08%.\n"
      ],
      "metadata": {
        "id": "W98Qx2Yon4-E"
      }
    },
    {
      "cell_type": "markdown",
      "source": [
        "###1.2 Problem statement\n",
        "Dereva car brand company is looking to manufacture innovative and outstanding quality vehicles with a special emphasis on the safety features of their cars in order to reduce the rising number of accidents resulting from drowsy drivers.<br>\n",
        "Our project will major in curbing the high rate of accidents by developing a  driver drowsiness detection system built on a neural network that can determine if eyes are open or closed and, when used in conjunction with computer vision, can determine whether a living human has had their eyes closed for longer than three seconds \n",
        " \n"
      ],
      "metadata": {
        "id": "NLYgdIp7oI1s"
      }
    },
    {
      "cell_type": "markdown",
      "source": [
        "###1.3 Main objective\n",
        "To develop a neural network that can detect if eyes are open or closed.\n",
        "\n",
        "\n"
      ],
      "metadata": {
        "id": "MiQmCrCupLG6"
      }
    },
    {
      "cell_type": "markdown",
      "source": [
        "###1.4 Specific Objectives\n",
        "* Determine the region of interest which is the eye region\n",
        "* Deploy our model to a webcam application that will classify a driver as having slept on the wheel if the positive class(eyes closed) is true for more than three frames."
      ],
      "metadata": {
        "id": "da93J6ku_fVo"
      }
    },
    {
      "cell_type": "markdown",
      "source": [
        "###1.5 Metric of success\n",
        "Our model will be considered successful if an AUC score of 0.97 will be attained ."
      ],
      "metadata": {
        "id": "YdNLV5zRoToO"
      }
    },
    {
      "cell_type": "markdown",
      "source": [
        "###1.6 Understanding the problem context\n",
        "For drowsiness detection, our goal is to correctly detect whether one has their eyes open or closed. If the eyes remain closed for more than three seconds the driver should receive an alert to wake them up.According to the following [article](<https://www.webmd.com/sleep-disorders/what-to-know-microsleep>) by WebMD if you doze off for 3 seconds while at a speed of 27 metres per second you can travel 92 metres in the wrong direction. \n",
        "Using the Area Under the curve (AUC) as our metric we are looking at the probability that our model will rank a true positive higher than a false positive.\n",
        "With an AUC score of 0.97, our model is able to correctly separate the open eyes and the closed eyes 97 times out of 100.  "
      ],
      "metadata": {
        "id": "WjNpG5DDolOL"
      }
    },
    {
      "cell_type": "markdown",
      "source": [
        "###1.7 Defining Experimental design\n",
        "* Import the relevant libraries used in the analysis.\n",
        "\n",
        "* Load and preview images\n",
        "\n",
        "* Explore the dataset we will use for our project.\n",
        "\n",
        "* Exploratory Data Analysis (EDA)\n",
        "\n",
        "* Data Pre-processing\n",
        "\n",
        "* Modelling and Evaluation\n",
        "\n",
        "* Challenging the model\n",
        "\n",
        "* Conclusion\n",
        "\n",
        "* Recommendations"
      ],
      "metadata": {
        "id": "B1y_k8S-o0JC"
      }
    },
    {
      "cell_type": "markdown",
      "source": [
        "##2. Data understanding\n",
        "The data is from [Kaggle](<https://www.kaggle.com/datasets/prasadvpatil/mrl-dataset>) it was created with the help of a larger-scale dataset of human eyes from Media Research Lab.\n",
        "\n",
        "The dataset contains images of the eye state whether open or closed. Of the 4000 images, 2000 are open eyes, and 2000 are closed eyes some with glasses some without. The images have a bit depth of 8. The dataset contains images with high and low resolution since they were captured by different devices under different lighting conditions."
      ],
      "metadata": {
        "id": "UmbbzVFzpiX7"
      }
    },
    {
      "cell_type": "markdown",
      "source": [
        "##3. Loading the data"
      ],
      "metadata": {
        "id": "m7-gHaK7sd8Q"
      }
    },
    {
      "cell_type": "markdown",
      "source": [
        "###3.1 Importing libraries"
      ],
      "metadata": {
        "id": "NXr1zeL2CW1C"
      }
    },
    {
      "cell_type": "code",
      "source": [
        "#Importing libraries\n",
        "import cv2\n",
        "import os\n",
        "import numpy as np\n",
        "import pandas as pd\n",
        "from sklearn.model_selection import train_test_split,GridSearchCV\n",
        "from sklearn.metrics import confusion_matrix\n",
        "from tensorflow.keras.wrappers.scikit_learn import KerasClassifier\n",
        "from tensorflow.keras.models import Sequential\n",
        "from tensorflow.keras.layers import Dense, Flatten, Conv2D, MaxPooling2D, Dropout\n",
        "from tensorflow.keras import layers\n",
        "from keras.applications.vgg19 import VGG19\n",
        "import matplotlib.pyplot as plt\n",
        "from PIL import Image as im\n",
        "import seaborn as sns\n",
        "import tensorflow as tf\n",
        "tf.random.set_seed(2)\n"
      ],
      "metadata": {
        "id": "flcnS7EvVViN"
      },
      "execution_count": 2,
      "outputs": []
    },
    {
      "cell_type": "markdown",
      "source": [
        "###3.2 Loading data"
      ],
      "metadata": {
        "id": "FRpI_IAHCpWx"
      }
    },
    {
      "cell_type": "code",
      "source": [
        "#Connecting colab to gooogle drive\n",
        "from google.colab import drive\n",
        "drive.mount('/content/drive')"
      ],
      "metadata": {
        "colab": {
          "base_uri": "https://localhost:8080/"
        },
        "id": "vWuOzI6hUN3x",
        "outputId": "8a1be301-b89c-4a3e-af66-1595ce4db5d1"
      },
      "execution_count": 3,
      "outputs": [
        {
          "output_type": "stream",
          "name": "stdout",
          "text": [
            "Mounted at /content/drive\n"
          ]
        }
      ]
    },
    {
      "cell_type": "code",
      "source": [
        " #Printing contents of train folder\n",
        "print(os.listdir(\"/content/drive/Shareddrives/Elite Drive/train\"))"
      ],
      "metadata": {
        "colab": {
          "base_uri": "https://localhost:8080/"
        },
        "id": "s9252coT30Kb",
        "outputId": "e617f027-8729-4c7c-96b3-e25d9f2c583b"
      },
      "execution_count": 4,
      "outputs": [
        {
          "output_type": "stream",
          "name": "stdout",
          "text": [
            "['Open_Eyes', 'Closed_Eyes']\n"
          ]
        }
      ]
    },
    {
      "cell_type": "markdown",
      "source": [
        "The os.listdir()  gets the list of all files and directories in the specified directory.  ."
      ],
      "metadata": {
        "id": "KKFO4K3j9_QG"
      }
    },
    {
      "cell_type": "code",
      "source": [
        "#Loading images from folders\n",
        "def load_images_from_folder(folder,eyes):\n",
        "    images=[]\n",
        "    for filename in os.listdir(folder):\n",
        "        img=cv2.imread(os.path.join(folder,filename))\n",
        "        images.append([img,eyes])\n",
        "    return images\n",
        "\n",
        "\n",
        "\n",
        "folder=\"/content/drive/Shareddrives/Elite Drive/train/Open_Eyes\"\n",
        "open_eyes=load_images_from_folder(folder,0)\n",
        "\n",
        "folder=\"/content/drive/Shareddrives/Elite Drive/train/Closed_Eyes\"\n",
        "closed_eyes=load_images_from_folder(folder,1)"
      ],
      "metadata": {
        "id": "gb6CrTQmVOb0"
      },
      "execution_count": 5,
      "outputs": []
    },
    {
      "cell_type": "markdown",
      "source": [
        "##4. Previewing data"
      ],
      "metadata": {
        "id": "_WjO3pEaBlNz"
      }
    },
    {
      "cell_type": "code",
      "source": [
        "#Displaying an image from open eyes\n",
        "data=im.fromarray(open_eyes[0][0])\n",
        "data"
      ],
      "metadata": {
        "colab": {
          "base_uri": "https://localhost:8080/",
          "height": 103
        },
        "id": "ePWIPiFy_i_3",
        "outputId": "165b8f58-fe57-4c71-cfd8-ff6946a55636"
      },
      "execution_count": 6,
      "outputs": [
        {
          "output_type": "execute_result",
          "data": {
            "text/plain": [
              "<PIL.Image.Image image mode=RGB size=86x86 at 0x7F5F3767A650>"
            ],
            "image/png": "[encoded data removed]"
          },
          "metadata": {},
          "execution_count": 6
        }
      ]
    },
    {
      "cell_type": "code",
      "source": [
        "#Dispaying an image from closed eyes\n",
        "data=im.fromarray(closed_eyes[119][0])\n",
        "data"
      ],
      "metadata": {
        "colab": {
          "base_uri": "https://localhost:8080/",
          "height": 105
        },
        "id": "Ku9R2-t3ch23",
        "outputId": "c10a1de7-9e55-4b2c-e85a-048cec8ae11d"
      },
      "execution_count": 7,
      "outputs": [
        {
          "output_type": "execute_result",
          "data": {
            "text/plain": [
              "<PIL.Image.Image image mode=RGB size=88x88 at 0x7F5F36D3F690>"
            ],
            "image/png": "[encoded data removed]"
          },
          "metadata": {},
          "execution_count": 7
        }
      ]
    },
    {
      "cell_type": "markdown",
      "source": [
        "##5. Data Exploration\n",
        "For better understanding of our data we will plot some visualizations."
      ],
      "metadata": {
        "id": "fywn47zpDA1e"
      }
    },
    {
      "cell_type": "code",
      "source": [
        "#Visualization of open and closed eyes\n",
        "open=len(open_eyes)\n",
        "closed=len(closed_eyes)\n",
        "data={\n",
        "    'open':open,\n",
        "    'closed':closed,\n",
        "}\n",
        "classes=list(data.keys())\n",
        "values=list(data.values())\n",
        "plt.figure(figsize=(10,5))\n",
        "sns.barplot(x=classes,y=values)\n",
        "plt.xlabel(\"Classes\")\n",
        "plt.ylabel(\"Count of images\")\n",
        "plt.title('Distribution of open and closed eye classes')\n",
        "plt.show()\n",
        "\n",
        "\n",
        "print(\"The total number of images of the Opened eyes:\", len(open_eyes))\n",
        "print(\"The total number of images of the Closed eyes:\", len(closed_eyes))\n"
      ],
      "metadata": {
        "colab": {
          "base_uri": "https://localhost:8080/",
          "height": 385
        },
        "id": "tsl_OSGmr9um",
        "outputId": "1a979363-87f3-40fa-b5c5-756df2596cad"
      },
      "execution_count": 8,
      "outputs": [
        {
          "output_type": "display_data",
          "data": {
            "text/plain": [
              "<Figure size 720x360 with 1 Axes>"
            ],
            "image/png": "[encoded data removed]"
          },
          "metadata": {
            "needs_background": "light"
          }
        },
        {
          "output_type": "stream",
          "name": "stdout",
          "text": [
            "The total number of images of the Opened eyes: 2000\n",
            "The total number of images of the Closed eyes: 2000\n"
          ]
        }
      ]
    },
    {
      "cell_type": "markdown",
      "source": [
        "As seen ,the classes represented by our data (open and closed eyes) are balanced."
      ],
      "metadata": {
        "id": "EksA-tuBZrKT"
      }
    },
    {
      "cell_type": "markdown",
      "source": [
        "##6.Data Pre-processing"
      ],
      "metadata": {
        "id": "LfUdpuiitYNb"
      }
    },
    {
      "cell_type": "markdown",
      "source": [
        "###6.1 Reshaping"
      ],
      "metadata": {
        "id": "cjk_PxIbLLvh"
      }
    },
    {
      "cell_type": "code",
      "source": [
        "#Combining the dataset\n",
        "eyes=open_eyes+closed_eyes\n",
        "\n"
      ],
      "metadata": {
        "id": "NxiIQBQucM9D"
      },
      "execution_count": 30,
      "outputs": []
    },
    {
      "cell_type": "code",
      "source": [
        "#Setting up images with X being images and y being labels\n",
        "X=[]\n",
        "y=[]\n",
        "\n",
        "for features, label in eyes:\n",
        "    X.append(features)\n",
        "    y.append(label)"
      ],
      "metadata": {
        "id": "klA9rGPVf-C0"
      },
      "execution_count": 31,
      "outputs": []
    },
    {
      "cell_type": "code",
      "source": [
        "#Converting image to array for modelling and scaling by dividing by 255\n",
        "X=np.array(X).reshape(-1,80,80,3)\n",
        "y=np.array(y)\n",
        "X=X/255.0"
      ],
      "metadata": {
        "id": "NQXn21HOgJHT"
      },
      "execution_count": 32,
      "outputs": []
    },
    {
      "cell_type": "code",
      "source": [
        "# Splitting the data \n",
        "\n",
        "X_train,X_test,y_train,y_test=train_test_split(X,y,random_state=23 )"
      ],
      "metadata": {
        "id": "VOrjcV0TgkAi"
      },
      "execution_count": 33,
      "outputs": []
    },
    {
      "cell_type": "code",
      "source": [
        "plt.figure()\n",
        "plt.imshow(X_train[10])\n",
        "plt.show()"
      ],
      "metadata": {
        "id": "sSHEOoACiPio",
        "colab": {
          "base_uri": "https://localhost:8080/",
          "height": 268
        },
        "outputId": "a0c87a73-f6c3-42a3-dcbd-254ea353dc26"
      },
      "execution_count": 34,
      "outputs": [
        {
          "output_type": "display_data",
          "data": {
            "text/plain": [
              "<Figure size 432x288 with 1 Axes>"
            ],
            "image/png": "[encoded data removed]"
          },
          "metadata": {
            "needs_background": "light"
          }
        }
      ]
    },
    {
      "cell_type": "code",
      "source": [
        "#class names for images shown below \n",
        "\n",
        "class_names=['open','close']"
      ],
      "metadata": {
        "id": "LY31SbRmi1LG"
      },
      "execution_count": 35,
      "outputs": []
    },
    {
      "cell_type": "code",
      "source": [
        "#producing images of training set with corresponding label\n",
        "plt.figure(figsize=(10,10))\n",
        "for i in range(10):\n",
        "    plt.subplot(5,5,i+1)\n",
        "    plt.xticks([])\n",
        "    plt.yticks([])\n",
        "    plt.imshow(X_train[i], cmap=plt.cm.binary)\n",
        "    plt.xlabel(class_names[y_train[i]],)"
      ],
      "metadata": {
        "id": "pUezpvL1nNx1",
        "colab": {
          "base_uri": "https://localhost:8080/",
          "height": 251
        },
        "outputId": "573a9960-4a52-444d-b3c3-9f8519a3c503"
      },
      "execution_count": 36,
      "outputs": [
        {
          "output_type": "display_data",
          "data": {
            "text/plain": [
              "<Figure size 720x720 with 10 Axes>"
            ],
            "image/png": "[encoded data removed]"
          },
          "metadata": {}
        }
      ]
    },
    {
      "cell_type": "markdown",
      "source": [
        "##Data modeling"
      ],
      "metadata": {
        "id": "hRRdQE3tbXTA"
      }
    },
    {
      "cell_type": "code",
      "source": [
        "#creating a function that returns a Keras model\n",
        "\n",
        "def deep_learning_model(dense_neurons1=128,dense_neurons2=128,dense_neurons3=128,layout='',filters=32,dropout=None,pooling=None):\n",
        "  model=Sequential()\n",
        "  if layout== '5x5':\n",
        "    model.add(Conv2D(filters=filters, kernel_size=(5,5),activation='relu',input_shape=(80,80,3)))\n",
        "\n",
        "  if layout=='3x3'or layout== '2*3x3':\n",
        "    model.add(Conv2D(filters=filters,kernel_size=(3,3),activation='relu',input_shape=(80,80,3)))\n",
        "\n",
        "#adding pooling for convlutional layers\n",
        "  if pooling!=None:\n",
        "    model.add(MaxPooling2D(pool_size=(2,2)))\n",
        "\n",
        "  if layout=='2*3x3':\n",
        "    #second layer\n",
        "      model.add(Conv2D(filters=filters,kernel_size=(3,3),activation='relu',input_shape=(80,80,3)))\n",
        "#adding pooling on 2*3x3\n",
        "  if pooling !=None and layout =='2*3x3':\n",
        "    model.add(MaxPooling2D(pool_size=(2,2)))\n",
        "\n",
        "#flatten model for dense layers\n",
        "  model.add(Flatten())\n",
        "  model.add(Dense(dense_neurons1,activation='relu'))\n",
        "  if dropout!=None:\n",
        "    model.add(Dropout(dropout))\n",
        "  model.add(Dense(dense_neurons2,activation='relu'))\n",
        "  if dropout!=None:\n",
        "    model.add(Dropout(dropout))\n",
        "  model.add(Dense(dense_neurons3,activation='relu'))\n",
        "  if dropout!=None:\n",
        "    model.add(Dropout(dropout))\n",
        "\n",
        "#adding output layer\n",
        "\n",
        "  model.add(Dense(1,activation='sigmoid'))\n",
        "\n",
        "  #compiling using binary cross entropy and using AUC as metric \n",
        "  model.compile(loss='binary_crossentropy', optimizer='adam',\n",
        "                metrics=[tf.keras.metrics.AUC(curve='PR')])\n",
        "\n",
        "  return model\n"
      ],
      "metadata": {
        "id": "bB4s_Qu73xJX"
      },
      "execution_count": 37,
      "outputs": []
    },
    {
      "cell_type": "code",
      "source": [
        "params_deep={\n",
        "    \"layout\":['3x3','5x5','2*3x3'],\n",
        "    \"dense_neurons1\":[64,128],\n",
        "    'filters':[8,18,32],\n",
        "    \"dropout\":[0.1,0.5,],\n",
        "    \"pooling\":[None,1],\n",
        "    \"epochs\":[10]}\n"
      ],
      "metadata": {
        "id": "3wZWMO63zV_L"
      },
      "execution_count": 38,
      "outputs": []
    },
    {
      "cell_type": "code",
      "source": [
        "nn_deep=KerasClassifier(build_fn=deep_learning_model, batch_size=200)"
      ],
      "metadata": {
        "id": "l2DYbKmbzWCi",
        "outputId": "d941959f-1884-44a9-bbf5-dd659effb1af",
        "colab": {
          "base_uri": "https://localhost:8080/"
        }
      },
      "execution_count": 39,
      "outputs": [
        {
          "output_type": "stream",
          "name": "stderr",
          "text": [
            "/usr/local/lib/python3.7/dist-packages/ipykernel_launcher.py:1: DeprecationWarning: KerasClassifier is deprecated, use Sci-Keras (https://github.com/adriangb/scikeras) instead. See https://www.adriangb.com/scikeras/stable/migration.html for help migrating.\n",
            "  \"\"\"Entry point for launching an IPython kernel.\n"
          ]
        }
      ]
    },
    {
      "cell_type": "code",
      "source": [
        "gs_deep=GridSearchCV(estimator=nn_deep,param_grid=params_deep,cv=3,scoring='average_precision')"
      ],
      "metadata": {
        "id": "EoIb2nZLzWF6"
      },
      "execution_count": 40,
      "outputs": []
    },
    {
      "cell_type": "code",
      "source": [
        "early_stop=tf.keras.callbacks.EarlyStopping(patience=5, min_delta=.05)"
      ],
      "metadata": {
        "id": "TdyQ6P5i2MLy"
      },
      "execution_count": 41,
      "outputs": []
    },
    {
      "cell_type": "code",
      "source": [
        "#gs_deep.fit(X_train, y_train,validation_data=(X_test,y_test),callbacks=[early_stop])"
      ],
      "metadata": {
        "id": "_6N4SxeLzWJk"
      },
      "execution_count": 42,
      "outputs": []
    },
    {
      "cell_type": "code",
      "source": [
        "#print(f'Best Accuracy for {gs_deep.best_score_} using {gs_deep.best_params_}')"
      ],
      "metadata": {
        "id": "InNOtK682FYu"
      },
      "execution_count": 43,
      "outputs": []
    },
    {
      "cell_type": "markdown",
      "source": [
        "The optimal parameters are:\n",
        "* dense_neurons1: 128\n",
        "*  dropout: 0.1\n",
        "*  epochs: 10\n",
        "* filters: 18\n",
        "* layout: 2*3x3\n",
        "* pooling: None"
      ],
      "metadata": {
        "id": "DK0Xf__JFb0f"
      }
    },
    {
      "cell_type": "markdown",
      "source": [
        "We will perform another grid search with different parameters."
      ],
      "metadata": {
        "id": "dA0BC02Magw3"
      }
    },
    {
      "cell_type": "code",
      "source": [
        "params_deep_two={\n",
        "    \"layout\":['2*3x3'],\n",
        "    \"dense_neurons1\":[64,128,256],\n",
        "    \"dense_neurons2\":[256,512],\n",
        "    \"dense_neurons3\":[256,512],\n",
        "    'filters':[32],\n",
        "    \"dropout\":[0,0.1,0.3,0.5,],\n",
        "    \"pooling\":[None,1],\n",
        "    \"epochs\":[10]\n",
        "\n",
        "}"
      ],
      "metadata": {
        "id": "tdlC_IenFL0q"
      },
      "execution_count": 44,
      "outputs": []
    },
    {
      "cell_type": "code",
      "source": [
        "gs_deep=GridSearchCV(estimator=nn_deep,param_grid=params_deep_two,cv=3,scoring='average_precision')"
      ],
      "metadata": {
        "id": "hPvqorGIg1XR"
      },
      "execution_count": 45,
      "outputs": []
    },
    {
      "cell_type": "code",
      "source": [
        "#gs_deep.fit(X_train, y_train,validation_data=(X_test,y_test),callbacks=[early_stop])"
      ],
      "metadata": {
        "id": "2NqaUGOlg_JE"
      },
      "execution_count": 46,
      "outputs": []
    },
    {
      "cell_type": "code",
      "source": [
        "#print(f'Best Accuracy for {gs_deep.best_score_} using {gs_deep.best_params_}')"
      ],
      "metadata": {
        "id": "3oMr4tYNqYXB"
      },
      "execution_count": 47,
      "outputs": []
    },
    {
      "cell_type": "markdown",
      "source": [
        "Implementing the model\n"
      ],
      "metadata": {
        "id": "MHGQUdbSrR39"
      }
    },
    {
      "cell_type": "code",
      "source": [
        "model=Sequential()\n",
        "\n",
        "#adding first convolution layer\n",
        "model.add(Conv2D(filters=32,kernel_size=(3,3),activation='relu'))\n",
        "#maxpooling after convolution layer\n",
        "model.add(MaxPooling2D(pool_size=(2,2)))\n",
        "\n",
        "#adding another convolution layer\n",
        "model.add(Conv2D(filters=32,kernel_size=(3,3),activation='relu'))\n",
        "#maxpooling after convolution layer\n",
        "model.add(MaxPooling2D(pool_size=(2,2)))\n",
        "\n",
        "model.add(Flatten())\n",
        "\n",
        "#adding first dense layer with 256 nodes\n",
        "model.add(Dense(256, activation='relu'))\n",
        "#adding a dropout layer to avoid overfitting\n",
        "model.add(Dropout(0.3))\n",
        "\n",
        "#adding second dense layer with 512 nodes\n",
        "model.add(Dense(512, activation='relu'))\n",
        "#adding a dropout layer to avoid overfitting\n",
        "model.add(Dropout(0.3))\n",
        "\n",
        "#adding third dense layer with 512 nodes\n",
        "model.add(Dense(256, activation='relu'))\n",
        "#adding a dropout layer to avoid overfitting\n",
        "model.add(Dropout(0.3))\n",
        "\n",
        "#Output layer\n",
        "model.add(Dense(1, activation='sigmoid'))\n",
        "#compiling \n",
        "model.compile(loss='binary_crossentropy',optimizer='adam', metrics=[tf.keras.metrics.AUC(curve='PR')])\n",
        "\n",
        "#fitting on train data\n",
        "model.fit(X_train,y_train,batch_size=200, epochs=10)"
      ],
      "metadata": {
        "id": "xEeXD7N4rCXg",
        "outputId": "d7f75478-a5cc-468a-a515-7726660b2ab9",
        "colab": {
          "base_uri": "https://localhost:8080/"
        }
      },
      "execution_count": 48,
      "outputs": [
        {
          "output_type": "stream",
          "name": "stdout",
          "text": [
            "Epoch 1/10\n",
            "15/15 [==============================] - 26s 2s/step - loss: 0.6156 - auc_1: 0.7114\n",
            "Epoch 2/10\n",
            "15/15 [==============================] - 27s 2s/step - loss: 0.3313 - auc_1: 0.9202\n",
            "Epoch 3/10\n",
            "15/15 [==============================] - 22s 1s/step - loss: 0.1269 - auc_1: 0.9885\n",
            "Epoch 4/10\n",
            "15/15 [==============================] - 27s 2s/step - loss: 0.0646 - auc_1: 0.9954\n",
            "Epoch 5/10\n",
            "15/15 [==============================] - 22s 1s/step - loss: 0.0350 - auc_1: 0.9990\n",
            "Epoch 6/10\n",
            "15/15 [==============================] - 21s 1s/step - loss: 0.0196 - auc_1: 0.9996\n",
            "Epoch 7/10\n",
            "15/15 [==============================] - 20s 1s/step - loss: 0.0143 - auc_1: 0.9997\n",
            "Epoch 8/10\n",
            "15/15 [==============================] - 20s 1s/step - loss: 0.0076 - auc_1: 1.0000\n",
            "Epoch 9/10\n",
            "15/15 [==============================] - 20s 1s/step - loss: 0.0053 - auc_1: 1.0000\n",
            "Epoch 10/10\n",
            "15/15 [==============================] - 20s 1s/step - loss: 0.0025 - auc_1: 1.0000\n"
          ]
        },
        {
          "output_type": "execute_result",
          "data": {
            "text/plain": [
              "<keras.callbacks.History at 0x7f9fd1f83b50>"
            ]
          },
          "metadata": {},
          "execution_count": 48
        }
      ]
    },
    {
      "cell_type": "code",
      "source": [
        "model.summary()"
      ],
      "metadata": {
        "id": "qsmwcN7ssesy",
        "outputId": "e4c4c158-8f0c-43f6-847f-c7540300ae04",
        "colab": {
          "base_uri": "https://localhost:8080/"
        }
      },
      "execution_count": 49,
      "outputs": [
        {
          "output_type": "stream",
          "name": "stdout",
          "text": [
            "Model: \"sequential\"\n",
            "_________________________________________________________________\n",
            " Layer (type)                Output Shape              Param #   \n",
            "=================================================================\n",
            " conv2d (Conv2D)             (200, 78, 78, 32)         896       \n",
            "                                                                 \n",
            " max_pooling2d (MaxPooling2D  (200, 39, 39, 32)        0         \n",
            " )                                                               \n",
            "                                                                 \n",
            " conv2d_1 (Conv2D)           (200, 37, 37, 32)         9248      \n",
            "                                                                 \n",
            " max_pooling2d_1 (MaxPooling  (200, 18, 18, 32)        0         \n",
            " 2D)                                                             \n",
            "                                                                 \n",
            " flatten (Flatten)           (200, 10368)              0         \n",
            "                                                                 \n",
            " dense_2 (Dense)             (200, 256)                2654464   \n",
            "                                                                 \n",
            " dropout (Dropout)           (200, 256)                0         \n",
            "                                                                 \n",
            " dense_3 (Dense)             (200, 512)                131584    \n",
            "                                                                 \n",
            " dropout_1 (Dropout)         (200, 512)                0         \n",
            "                                                                 \n",
            " dense_4 (Dense)             (200, 256)                131328    \n",
            "                                                                 \n",
            " dropout_2 (Dropout)         (200, 256)                0         \n",
            "                                                                 \n",
            " dense_5 (Dense)             (200, 1)                  257       \n",
            "                                                                 \n",
            "=================================================================\n",
            "Total params: 2,927,777\n",
            "Trainable params: 2,927,777\n",
            "Non-trainable params: 0\n",
            "_________________________________________________________________\n"
          ]
        }
      ]
    },
    {
      "cell_type": "code",
      "source": [
        "score = model.evaluate(X_test, y_test)"
      ],
      "metadata": {
        "id": "FvyN0Jd5sr13",
        "outputId": "e7ae909a-d788-4cca-d766-5cbe87f7826e",
        "colab": {
          "base_uri": "https://localhost:8080/"
        }
      },
      "execution_count": 50,
      "outputs": [
        {
          "output_type": "stream",
          "name": "stdout",
          "text": [
            "32/32 [==============================] - 2s 61ms/step - loss: 0.0179 - auc_1: 0.9980\n"
          ]
        }
      ]
    },
    {
      "cell_type": "code",
      "source": [
        "labels=model.metrics_names\n",
        "\n",
        "#showing perfomance\n",
        "print(f'{labels[0]}: {score[0]}')\n",
        "\n",
        "print(f'{labels[1]}: {score[1]}')"
      ],
      "metadata": {
        "id": "GC7LYVr5tm57",
        "outputId": "8d0eb1e6-1f71-4006-f736-225598cca7b5",
        "colab": {
          "base_uri": "https://localhost:8080/"
        }
      },
      "execution_count": 51,
      "outputs": [
        {
          "output_type": "stream",
          "name": "stdout",
          "text": [
            "loss: 0.0179490614682436\n",
            "auc_1: 0.9979591965675354\n"
          ]
        }
      ]
    },
    {
      "cell_type": "code",
      "source": [
        "preds=model.predict(X_test)\n",
        "\n",
        "\n"
      ],
      "metadata": {
        "id": "rNNf9OKcuQzt"
      },
      "execution_count": 52,
      "outputs": []
    },
    {
      "cell_type": "code",
      "source": [
        "confusion_matrix=tf.math.confusion_matrix(labels=y_test,predictions=preds.round()).numpy()\n",
        "\n",
        "confusion_matrix"
      ],
      "metadata": {
        "id": "_XEVnAIfu2sr",
        "outputId": "5fc15d8e-e6a1-464a-9476-7a0bde8597c4",
        "colab": {
          "base_uri": "https://localhost:8080/"
        }
      },
      "execution_count": 53,
      "outputs": [
        {
          "output_type": "execute_result",
          "data": {
            "text/plain": [
              "array([[504,   6],\n",
              "       [  0, 490]], dtype=int32)"
            ]
          },
          "metadata": {},
          "execution_count": 53
        }
      ]
    },
    {
      "cell_type": "code",
      "source": [
        "figure =plt.figure(figsize=(8,8))\n",
        "sns.set(font_scale=1.4)\n",
        "sns.heatmap(confusion_matrix,cmap=plt.cm.Blues,annot=True,fmt=\"g\")\n",
        "plt.ylabel('True Labels')\n",
        "plt.xlabel('Predicted Labels')\n",
        "plt.title('Confusion Matrix for Final Model')\n",
        "plt.show()"
      ],
      "metadata": {
        "id": "knbFYNdBv1kU",
        "outputId": "f6262c06-9705-4242-af49-1bc9d7f98049",
        "colab": {
          "base_uri": "https://localhost:8080/",
          "height": 532
        }
      },
      "execution_count": 54,
      "outputs": [
        {
          "output_type": "display_data",
          "data": {
            "text/plain": [
              "<Figure size 576x576 with 2 Axes>"
            ],
            "image/png": "[encoded data removed]"
          },
          "metadata": {
            "needs_background": "light"
          }
        }
      ]
    },
    {
      "cell_type": "code",
      "source": [
        "tn, fp, fn, tp =confusion_matrix.ravel()\n",
        "recall = tp/(tp+fn)\n",
        "precision = tp/(tp+fp)\n",
        "accuracy = (tp+tn)/(tp+tn+fp+fn)\n",
        "f1_score = ((precision*recall)/(precision+recall))*2\n",
        "print(f'Precision score is:',precision)\n",
        "print(f'Recall score is:',recall)\n",
        "print(f'Accuracy score is:',accuracy)\n",
        "print(f'F1 score is:',f1_score)"
      ],
      "metadata": {
        "id": "P_BTwnrg1P6d",
        "outputId": "a2816164-6b07-43f1-b0a3-fa563c329413",
        "colab": {
          "base_uri": "https://localhost:8080/"
        }
      },
      "execution_count": 55,
      "outputs": [
        {
          "output_type": "stream",
          "name": "stdout",
          "text": [
            "Precision score is: 0.9879032258064516\n",
            "Recall score is: 1.0\n",
            "Accuracy score is: 0.994\n",
            "F1 score is: 0.9939148073022313\n"
          ]
        }
      ]
    },
    {
      "cell_type": "code",
      "source": [],
      "metadata": {
        "id": "NyoLmogshnGa"
      },
      "execution_count": null,
      "outputs": []
    },
    {
      "cell_type": "code",
      "source": [],
      "metadata": {
        "id": "zZOQi5XWhnPh"
      },
      "execution_count": null,
      "outputs": []
    },
    {
      "cell_type": "code",
      "source": [
        "vgg19_model = VGG19(weights='imagenet',\n",
        "                  include_top=False,\n",
        "                  input_shape=(80, 80, 3))"
      ],
      "metadata": {
        "id": "Btbhx4pcRnoy"
      },
      "execution_count": 68,
      "outputs": []
    },
    {
      "cell_type": "code",
      "source": [
        "vgg19_model.layers"
      ],
      "metadata": {
        "id": "y_nML80PRniR",
        "outputId": "f4cce367-9999-4c98-e380-78e5ae425ac4",
        "colab": {
          "base_uri": "https://localhost:8080/"
        }
      },
      "execution_count": 69,
      "outputs": [
        {
          "output_type": "execute_result",
          "data": {
            "text/plain": [
              "[<keras.engine.input_layer.InputLayer at 0x7f9fd197d610>,\n",
              " <keras.layers.convolutional.Conv2D at 0x7f9fd197dbd0>,\n",
              " <keras.layers.convolutional.Conv2D at 0x7f9fd1e01410>,\n",
              " <keras.layers.pooling.MaxPooling2D at 0x7f9fd19ad8d0>,\n",
              " <keras.layers.convolutional.Conv2D at 0x7f9fd197f510>,\n",
              " <keras.layers.convolutional.Conv2D at 0x7f9fd1c99810>,\n",
              " <keras.layers.pooling.MaxPooling2D at 0x7f9fd19e5610>,\n",
              " <keras.layers.convolutional.Conv2D at 0x7f9fd19af3d0>,\n",
              " <keras.layers.convolutional.Conv2D at 0x7f9fd19ad150>,\n",
              " <keras.layers.convolutional.Conv2D at 0x7f9fd1912250>,\n",
              " <keras.layers.convolutional.Conv2D at 0x7f9fd1912650>,\n",
              " <keras.layers.pooling.MaxPooling2D at 0x7f9fd1912750>,\n",
              " <keras.layers.convolutional.Conv2D at 0x7f9fd1974790>,\n",
              " <keras.layers.convolutional.Conv2D at 0x7f9fd19128d0>,\n",
              " <keras.layers.convolutional.Conv2D at 0x7f9fd1dafad0>,\n",
              " <keras.layers.convolutional.Conv2D at 0x7f9fd191ef10>,\n",
              " <keras.layers.pooling.MaxPooling2D at 0x7f9fd1974f50>,\n",
              " <keras.layers.convolutional.Conv2D at 0x7f9fd19319d0>,\n",
              " <keras.layers.convolutional.Conv2D at 0x7f9fd1912850>,\n",
              " <keras.layers.convolutional.Conv2D at 0x7f9fd19223d0>,\n",
              " <keras.layers.convolutional.Conv2D at 0x7f9fd1941690>,\n",
              " <keras.layers.pooling.MaxPooling2D at 0x7f9fd19370d0>]"
            ]
          },
          "metadata": {},
          "execution_count": 69
        }
      ]
    },
    {
      "cell_type": "code",
      "source": [
        "# freezing the layers\n",
        "\n",
        "for layer in vgg19_model.layers:\n",
        "    layer.trainable=False"
      ],
      "metadata": {
        "id": "CYgxx0nBYEuE"
      },
      "execution_count": 70,
      "outputs": []
    },
    {
      "cell_type": "code",
      "source": [
        "x = vgg19_model.output\n",
        "x = tf.keras.layers.GlobalAveragePooling2D()(x)\n",
        "x = tf.keras.layers.Dense(128,activation='relu')(x)\n",
        "# output layer\n",
        "predictions = tf.keras.layers.Dense(1,activation='sigmoid')(x)\n",
        "\n",
        "model = tf.keras.Model(inputs=vgg19_model.input, outputs=predictions)"
      ],
      "metadata": {
        "id": "jFQPKCqaau3k"
      },
      "execution_count": 71,
      "outputs": []
    }
  ]
}