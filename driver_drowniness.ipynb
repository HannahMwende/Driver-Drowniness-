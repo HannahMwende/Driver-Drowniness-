{
  "nbformat": 4,
  "nbformat_minor": 0,
  "metadata": {
    "colab": {
      "provenance": [],
      "collapsed_sections": [],
      "include_colab_link": true
    },
    "kernelspec": {
      "name": "python3",
      "display_name": "Python 3"
    },
    "language_info": {
      "name": "python"
    },
    "gpuClass": "standard",
    "accelerator": "GPU"
  },
  "cells": [
    {
      "cell_type": "markdown",
      "metadata": {
        "id": "view-in-github",
        "colab_type": "text"
      },
      "source": [
        "<a href=\"https://colab.research.google.com/github/HannahMwende/Driver-Drowniness-dectection-system/blob/main/driver_drowniness.ipynb\" target=\"_parent\"><img src=\"https://colab.research.google.com/assets/colab-badge.svg\" alt=\"Open In Colab\"/></a>"
      ]
    },
    {
      "cell_type": "markdown",
      "source": [
        "# Driver drowniness detection system\n",
        "\n",
        "\n"
      ],
      "metadata": {
        "id": "8301NRl8CLsu"
      }
    },
    {
      "cell_type": "markdown",
      "source": [
        "#### Authors\n",
        "* Ann Maureen\n",
        "* Hannah Mutua\n",
        "* Ibrahim Hafiz\n",
        "* Samuel Kabati\n",
        "* Angela Cheruto\n",
        "* Janet Gachoki"
      ],
      "metadata": {
        "id": "K-ijre_j-pRj"
      }
    },
    {
      "cell_type": "markdown",
      "source": [
        "## 1. Business understanding"
      ],
      "metadata": {
        "id": "ieJaHyQnnjZl"
      }
    },
    {
      "cell_type": "markdown",
      "source": [
        "###1.1 Introduction\n",
        "Drowsy Driving is the act of driving while feeling fatigued or sleepy. There are various factors that can contribute to drowsy driving. Sleep depletion, sleep disorders, medication, stress, drunk driving, or extended hours for shift work are some of the factors. Drowsy driving can have a number of effects on the driver such as poor judgment, loss of attention, and delayed reaction times.<br>\n",
        "\n",
        "A report by the National Security Council (NSC) shows that in the United States, drowsy driving accounts for about 100,000 crashes, 71000 injuries, and 1550 fatalities annually. Another report by American Automobile Association (AAA) shows that 9.5% of car crashes are caused by drowsy driving and 27% of drivers admit that they have a difficult time keeping their eyes open while driving if they are tired.<br>\n",
        "\n",
        "In Kenya, a report by the  National Transport and Safety Authority shows that the number of people killed and injured in road crashes went up by 17.5% in September 2021 as compared to the same period in 2020. Falling asleep at the wheel is one of the major causes of these accidents. Research has indicated that going more than 20 hours without sleep is the equivalent of having a blood-alcohol concentration of 0.08%.\n"
      ],
      "metadata": {
        "id": "W98Qx2Yon4-E"
      }
    },
    {
      "cell_type": "markdown",
      "source": [
        "###1.2 Problem statement\n",
        "Dereva car brand company is looking to manufacture innovative and outstanding quality vehicles with a special emphasis on the safety features of their cars in order to reduce the rising number of accidents resulting from drowsy drivers.<br>\n",
        "Our project will major in curbing the high rate of accidents by developing a  driver drowsiness detection system built on a neural network that can determine if eyes are open or closed and, when used in conjunction with computer vision, can determine whether a living human has had their eyes closed for longer than three seconds \n",
        " \n"
      ],
      "metadata": {
        "id": "NLYgdIp7oI1s"
      }
    },
    {
      "cell_type": "markdown",
      "source": [
        "###1.3 Main objective\n",
        "To develop a neural network that can detect if eyes are open or closed.\n",
        "\n",
        "\n"
      ],
      "metadata": {
        "id": "MiQmCrCupLG6"
      }
    },
    {
      "cell_type": "markdown",
      "source": [
        "###1.4 Specific Objectives\n",
        "* Determine the region of interest which is the eye region\n",
        "* Deploy our model to a webcam application that will classify a driver as having slept on the wheel if the positive class(eyes closed) is true for more than three frames."
      ],
      "metadata": {
        "id": "da93J6ku_fVo"
      }
    },
    {
      "cell_type": "markdown",
      "source": [
        "###1.5 Metric of success\n",
        "Our model will be considered successful if an AUC score of 0.97 will be attained ."
      ],
      "metadata": {
        "id": "YdNLV5zRoToO"
      }
    },
    {
      "cell_type": "markdown",
      "source": [
        "###1.6 Understanding the problem context\n",
        "For drowsiness detection, our goal is to correctly detect whether one has their eyes open or closed. If the eyes remain closed for more than three seconds the driver should receive an alert to wake them up.According to the following [article](<https://www.webmd.com/sleep-disorders/what-to-know-microsleep>) by WebMD if you doze off for 3 seconds while at a speed of 27 metres per second you can travel 92 metres in the wrong direction. \n",
        "Using the Area Under the curve (AUC) as our metric we are looking at the probability that our model will rank a true positive higher than a false positive.\n",
        "With an AUC score of 0.97, our model is able to correctly separate the open eyes and the closed eyes 97 times out of 100.  "
      ],
      "metadata": {
        "id": "WjNpG5DDolOL"
      }
    },
    {
      "cell_type": "markdown",
      "source": [
        "###1.7 Defining Experimental design\n",
        "* Import the relevant libraries used in the analysis.\n",
        "\n",
        "* Load and preview images\n",
        "\n",
        "* Explore the dataset we will use for our project.\n",
        "\n",
        "* Exploratory Data Analysis (EDA)\n",
        "\n",
        "* Data Pre-processing\n",
        "\n",
        "* Modelling and Evaluation\n",
        "\n",
        "* Challenging the model\n",
        "\n",
        "* Conclusion\n",
        "\n",
        "* Recommendations"
      ],
      "metadata": {
        "id": "B1y_k8S-o0JC"
      }
    },
    {
      "cell_type": "markdown",
      "source": [
        "##2. Data understanding\n",
        "The data is from [Kaggle](<https://www.kaggle.com/datasets/prasadvpatil/mrl-dataset>) it was created with the help of a larger-scale dataset of human eyes from Media Research Lab.\n",
        "\n",
        "The dataset contains images of the eye state whether open or closed. Of the 4000 images, 2000 are open eyes, and 2000 are closed eyes some with glasses some without. The images have a bit depth of 8. The dataset contains images with high and low resolution since they were captured by different devices under different lighting conditions."
      ],
      "metadata": {
        "id": "UmbbzVFzpiX7"
      }
    },
    {
      "cell_type": "markdown",
      "source": [
        "##3. Loading the data"
      ],
      "metadata": {
        "id": "m7-gHaK7sd8Q"
      }
    },
    {
      "cell_type": "markdown",
      "source": [
        "###3.1 Importing libraries"
      ],
      "metadata": {
        "id": "NXr1zeL2CW1C"
      }
    },
    {
      "cell_type": "code",
      "source": [
        "#Importing libraries\n",
        "\n",
        "import cv2\n",
        "import os\n",
        "import numpy as np\n",
        "import pandas as pd\n",
        "from sklearn.model_selection import train_test_split,GridSearchCV\n",
        "from sklearn.metrics import confusion_matrix\n",
        "from sklearn.metrics import roc_curve, accuracy_score, auc, plot_roc_curve, roc_auc_score,recall_score, precision_score, f1_score\n",
        "from tensorflow.keras.wrappers.scikit_learn import KerasClassifier\n",
        "from tensorflow.keras.models import Sequential\n",
        "from tensorflow.keras.layers import Dense, Flatten, Conv2D, MaxPooling2D, Dropout\n",
        "from tensorflow.keras import layers\n",
        "from keras.applications.vgg19 import VGG19\n",
        "import matplotlib.pyplot as plt\n",
        "from PIL import Image as im\n",
        "import seaborn as sns\n",
        "import tensorflow as tf\n",
        "tf.random.set_seed(2)\n"
      ],
      "metadata": {
        "id": "flcnS7EvVViN"
      },
      "execution_count": 6,
      "outputs": []
    },
    {
      "cell_type": "markdown",
      "source": [
        "###3.2 Loading data"
      ],
      "metadata": {
        "id": "FRpI_IAHCpWx"
      }
    },
    {
      "cell_type": "code",
      "source": [
        "#Connecting colab to gooogle drive\n",
        "from google.colab import drive\n",
        "drive.mount('/content/drive')"
      ],
      "metadata": {
        "colab": {
          "base_uri": "https://localhost:8080/"
        },
        "id": "vWuOzI6hUN3x",
        "outputId": "9d8da320-2b23-4f7f-e0e0-673a1b59580f"
      },
      "execution_count": 7,
      "outputs": [
        {
          "output_type": "stream",
          "name": "stdout",
          "text": [
            "Mounted at /content/drive\n"
          ]
        }
      ]
    },
    {
      "cell_type": "code",
      "source": [
        " #Printing contents of train folder\n",
        "print(os.listdir(\"/content/drive/Shareddrives/Elite Drive/train\"))"
      ],
      "metadata": {
        "colab": {
          "base_uri": "https://localhost:8080/"
        },
        "id": "s9252coT30Kb",
        "outputId": "eb5ee68a-315f-4247-8c0f-07752ce7a4d6"
      },
      "execution_count": 8,
      "outputs": [
        {
          "output_type": "stream",
          "name": "stdout",
          "text": [
            "['Open_Eyes', 'Closed_Eyes']\n"
          ]
        }
      ]
    },
    {
      "cell_type": "markdown",
      "source": [
        "The os.listdir()  gets the list of all files and directories in the specified directory.  ."
      ],
      "metadata": {
        "id": "KKFO4K3j9_QG"
      }
    },
    {
      "cell_type": "code",
      "source": [
        "#Loading images from the folders and labelling them\n",
        "def load_images_from_folder(folder,eyes):\n",
        "    images=[]\n",
        "    for filename in os.listdir(folder):\n",
        "        img=cv2.imread(os.path.join(folder,filename))\n",
        "        img=cv2.resize(img,(80,80))\n",
        "        images.append([img,eyes])\n",
        "    return images\n",
        "\n",
        "\n",
        "\n",
        "folder=\"/content/drive/Shareddrives/Elite Drive/train/Open_Eyes\"\n",
        "open_eyes=load_images_from_folder(folder,0)\n",
        "\n",
        "folder=\"/content/drive/Shareddrives/Elite Drive/train/Closed_Eyes\"\n",
        "closed_eyes=load_images_from_folder(folder,1)"
      ],
      "metadata": {
        "id": "gb6CrTQmVOb0"
      },
      "execution_count": 9,
      "outputs": []
    },
    {
      "cell_type": "markdown",
      "source": [
        "##4. Previewing data"
      ],
      "metadata": {
        "id": "_WjO3pEaBlNz"
      }
    },
    {
      "cell_type": "code",
      "source": [
        "#Displaying an image from open eyes\n",
        "data=im.fromarray(open_eyes[0][0])\n",
        "data"
      ],
      "metadata": {
        "colab": {
          "base_uri": "https://localhost:8080/",
          "height": 97
        },
        "id": "ePWIPiFy_i_3",
        "outputId": "d6041fcb-37ae-4e46-9d24-665b4ec6a444"
      },
      "execution_count": 10,
      "outputs": [
        {
          "output_type": "execute_result",
          "data": {
            "text/plain": [
              "<PIL.Image.Image image mode=RGB size=80x80 at 0x7F8793543F90>"
            ],
            "image/png": "[encoded data removed]"
          },
          "metadata": {},
          "execution_count": 10
        }
      ]
    },
    {
      "cell_type": "code",
      "source": [
        "#Dispaying an image from closed eyes\n",
        "data=im.fromarray(closed_eyes[119][0])\n",
        "data"
      ],
      "metadata": {
        "colab": {
          "base_uri": "https://localhost:8080/",
          "height": 97
        },
        "id": "Ku9R2-t3ch23",
        "outputId": "a13bb192-4d1d-4c88-e08a-59d5be4cf3d9"
      },
      "execution_count": 11,
      "outputs": [
        {
          "output_type": "execute_result",
          "data": {
            "text/plain": [
              "<PIL.Image.Image image mode=RGB size=80x80 at 0x7F8792C093D0>"
            ],
            "image/png": "[encoded data removed]"
          },
          "metadata": {},
          "execution_count": 11
        }
      ]
    },
    {
      "cell_type": "markdown",
      "source": [
        "##5. Data Exploration\n",
        "For better understanding of our data we will plot some visualizations."
      ],
      "metadata": {
        "id": "fywn47zpDA1e"
      }
    },
    {
      "cell_type": "code",
      "source": [
        "#Visualization of open and closed eyes\n",
        "open=len(open_eyes)\n",
        "closed=len(closed_eyes)\n",
        "data={\n",
        "    'open':open,\n",
        "    'closed':closed,\n",
        "}\n",
        "classes=list(data.keys())\n",
        "values=list(data.values())\n",
        "plt.figure(figsize=(10,5))\n",
        "sns.barplot(x=classes,y=values)\n",
        "plt.xlabel(\"Classes\")\n",
        "plt.ylabel(\"Count of images\")\n",
        "plt.title('Distribution of open and closed eye classes')\n",
        "plt.show()\n",
        "\n",
        "\n",
        "print(\"The total number of images of the Opened eyes:\", len(open_eyes))\n",
        "print(\"The total number of images of the Closed eyes:\", len(closed_eyes))\n"
      ],
      "metadata": {
        "colab": {
          "base_uri": "https://localhost:8080/",
          "height": 387
        },
        "id": "tsl_OSGmr9um",
        "outputId": "0b8099bc-c988-45d9-8069-c34919966be1"
      },
      "execution_count": 12,
      "outputs": [
        {
          "output_type": "display_data",
          "data": {
            "text/plain": [
              "<Figure size 720x360 with 1 Axes>"
            ],
            "image/png": "[encoded data removed]"
          },
          "metadata": {
            "needs_background": "light"
          }
        },
        {
          "output_type": "stream",
          "name": "stdout",
          "text": [
            "The total number of images of the Opened eyes: 2000\n",
            "The total number of images of the Closed eyes: 2000\n"
          ]
        }
      ]
    },
    {
      "cell_type": "markdown",
      "source": [
        "As seen ,the classes represented by our data (open and closed eyes) are balanced."
      ],
      "metadata": {
        "id": "EksA-tuBZrKT"
      }
    },
    {
      "cell_type": "markdown",
      "source": [
        "##6.Image Pre-processing"
      ],
      "metadata": {
        "id": "LfUdpuiitYNb"
      }
    },
    {
      "cell_type": "markdown",
      "source": [
        "###6.1 Data split"
      ],
      "metadata": {
        "id": "6iHRomMZfewZ"
      }
    },
    {
      "cell_type": "code",
      "source": [
        "#Combining the dataset\n",
        "eyes=open_eyes+closed_eyes\n",
        "\n",
        "\n",
        "#Setting up images with X being images and y being labels\n",
        "X=[]\n",
        "y=[]\n",
        "\n",
        "for features, label in eyes:\n",
        "    X.append(features)\n",
        "    y.append(label)"
      ],
      "metadata": {
        "id": "klA9rGPVf-C0"
      },
      "execution_count": 13,
      "outputs": []
    },
    {
      "cell_type": "markdown",
      "source": [
        "###6.2 Reshaping and normalization\n",
        "Reshaping is done to ensure images are of a fixed size before they are fed into the networks.<BR>\n",
        "\n",
        "On the other hand, normalization reduces the pixel values to a range between 0 and 1 as  pixel values can range from 0 to 256. Each number represents a color code.\n",
        "When using the image as it is and passing through a Deep Neural Network, the computation of high numeric values may become more complex.<br>\n",
        "In this way, the numbers will be small and the computation becomes easier and faster this is achieved by dividing all the values by 255.\n"
      ],
      "metadata": {
        "id": "cjk_PxIbLLvh"
      }
    },
    {
      "cell_type": "code",
      "source": [
        "#Converting image to array for modelling and scaling by dividing by 255\n",
        "X=np.array(X).reshape(-1,80,80,3)\n",
        "y=np.array(y)\n",
        "X=X/255.0"
      ],
      "metadata": {
        "id": "NQXn21HOgJHT"
      },
      "execution_count": 14,
      "outputs": []
    },
    {
      "cell_type": "markdown",
      "source": [
        "###6.3 Train test split"
      ],
      "metadata": {
        "id": "4kJ1WWY9Oufc"
      }
    },
    {
      "cell_type": "code",
      "source": [
        "# Splitting the data \n",
        "\n",
        "X_train,X_test,y_train,y_test=train_test_split(X,y,random_state=23 )\n",
        "print(f\"Shape for X_train : {X_train.shape}\")\n",
        "print(f\"Shape for X_test :{X_test.shape}\")\n",
        "print(f\"Shape for y_train :{y_train.shape}\")\n",
        "print(f\"Shape for y_test :{y_test.shape}\")\n"
      ],
      "metadata": {
        "id": "VOrjcV0TgkAi",
        "colab": {
          "base_uri": "https://localhost:8080/"
        },
        "outputId": "826afd5b-bd71-483b-c9a3-12731c786134"
      },
      "execution_count": 15,
      "outputs": [
        {
          "output_type": "stream",
          "name": "stdout",
          "text": [
            "Shape for X_train : (3000, 80, 80, 3)\n",
            "Shape for X_test :(1000, 80, 80, 3)\n",
            "Shape for y_train :(3000,)\n",
            "Shape for y_test :(1000,)\n"
          ]
        }
      ]
    },
    {
      "cell_type": "code",
      "source": [
        "#Taking a quick look at a random image and its corresponding label\n",
        "sample_image = X_train[10]\n",
        "sample_label =y_train[10]\n",
        "display(plt.imshow(sample_image))\n",
        "print('Label: {}'.format(sample_label))"
      ],
      "metadata": {
        "id": "sSHEOoACiPio",
        "colab": {
          "base_uri": "https://localhost:8080/",
          "height": 305
        },
        "outputId": "e043de64-88b4-498f-c95e-e9193870771b"
      },
      "execution_count": 16,
      "outputs": [
        {
          "output_type": "display_data",
          "data": {
            "text/plain": [
              "<matplotlib.image.AxesImage at 0x7f87926862d0>"
            ]
          },
          "metadata": {}
        },
        {
          "output_type": "stream",
          "name": "stdout",
          "text": [
            "Label: 1\n"
          ]
        },
        {
          "output_type": "display_data",
          "data": {
            "text/plain": [
              "<Figure size 432x288 with 1 Axes>"
            ],
            "image/png": "[encoded data removed]"
          },
          "metadata": {
            "needs_background": "light"
          }
        }
      ]
    },
    {
      "cell_type": "code",
      "source": [
        "#class names for images shown below \n",
        "\n",
        "class_names=['open','close']"
      ],
      "metadata": {
        "id": "LY31SbRmi1LG"
      },
      "execution_count": 17,
      "outputs": []
    },
    {
      "cell_type": "code",
      "source": [
        "#producing images of training set with corresponding label\n",
        "plt.figure(figsize=(10,10))\n",
        "for i in range(10):\n",
        "    plt.subplot(5,5,i+1)\n",
        "    plt.xticks([])\n",
        "    plt.yticks([])\n",
        "    plt.imshow(X_train[i], cmap=plt.cm.binary)\n",
        "    plt.xlabel(class_names[y_train[i]],)"
      ],
      "metadata": {
        "id": "pUezpvL1nNx1",
        "colab": {
          "base_uri": "https://localhost:8080/",
          "height": 251
        },
        "outputId": "2ce01ae5-87fd-49cf-e7cf-7366c34b29c9"
      },
      "execution_count": 18,
      "outputs": [
        {
          "output_type": "display_data",
          "data": {
            "text/plain": [
              "<Figure size 720x720 with 10 Axes>"
            ],
            "image/png": "[encoded data removed]"
          },
          "metadata": {}
        }
      ]
    },
    {
      "cell_type": "markdown",
      "source": [
        "##7.Implementing the solution"
      ],
      "metadata": {
        "id": "hRRdQE3tbXTA"
      }
    },
    {
      "cell_type": "markdown",
      "source": [
        "###7.1 Baseline model"
      ],
      "metadata": {
        "id": "0QdAHn1oZbJg"
      }
    },
    {
      "cell_type": "code",
      "source": [
        "#creating a function that returns a Keras model\n",
        "\n",
        "def deep_learning_model(dense_neurons1=128,dense_neurons2=128,dense_neurons3=128,layout='',filters=32,dropout=None,pooling=None):\n",
        "  model=Sequential()\n",
        "  if layout== '5x5':\n",
        "    model.add(Conv2D(filters=filters, kernel_size=(5,5),activation='relu',input_shape=(80,80,3)))\n",
        "\n",
        "  if layout=='3x3'or layout== '2*3x3':\n",
        "    model.add(Conv2D(filters=filters,kernel_size=(3,3),activation='relu',input_shape=(80,80,3)))\n",
        "\n",
        "#adding pooling for convlutional layers\n",
        "  if pooling!=None:\n",
        "    model.add(MaxPooling2D(pool_size=(2,2)))\n",
        "\n",
        "  if layout=='2*3x3':\n",
        "    #second layer\n",
        "      model.add(Conv2D(filters=filters,kernel_size=(3,3),activation='relu',input_shape=(80,80,3)))\n",
        "#adding pooling on 2*3x3\n",
        "  if pooling !=None and layout =='2*3x3':\n",
        "    model.add(MaxPooling2D(pool_size=(2,2)))\n",
        "\n",
        "#flatten model for dense layers\n",
        "  model.add(Flatten())\n",
        "  model.add(Dense(dense_neurons1,activation='relu'))\n",
        "  if dropout!=None:\n",
        "    model.add(Dropout(dropout))\n",
        "  model.add(Dense(dense_neurons2,activation='relu'))\n",
        "  if dropout!=None:\n",
        "    model.add(Dropout(dropout))\n",
        "  model.add(Dense(dense_neurons3,activation='relu'))\n",
        "  if dropout!=None:\n",
        "    model.add(Dropout(dropout))\n",
        "\n",
        "#adding output layer\n",
        "\n",
        "  model.add(Dense(1,activation='sigmoid'))\n",
        "\n",
        "  #compiling using binary cross entropy and using AUC as metric \n",
        "  model.compile(loss='binary_crossentropy', optimizer='adam',\n",
        "                metrics=[tf.keras.metrics.AUC(curve='PR')])\n",
        "\n",
        "  return model\n"
      ],
      "metadata": {
        "id": "bB4s_Qu73xJX"
      },
      "execution_count": 19,
      "outputs": []
    },
    {
      "cell_type": "markdown",
      "source": [
        "```KerasClassifier```is a wrapper that allows us to access scikit learn methods such as  cross-validation, model selection, pipelining, and grid search abilities using a keras model .<br>\n",
        "A GridSearch will be performed to find optimum values for hyperparameters."
      ],
      "metadata": {
        "id": "cOOBAkev3ffA"
      }
    },
    {
      "cell_type": "code",
      "source": [
        "nn_deep=KerasClassifier(build_fn=deep_learning_model, batch_size=200)"
      ],
      "metadata": {
        "id": "l2DYbKmbzWCi",
        "colab": {
          "base_uri": "https://localhost:8080/"
        },
        "outputId": "1f0ac110-c01b-4a46-c6d3-41a9a6f51a23"
      },
      "execution_count": 20,
      "outputs": [
        {
          "output_type": "stream",
          "name": "stderr",
          "text": [
            "/usr/local/lib/python3.7/dist-packages/ipykernel_launcher.py:1: DeprecationWarning: KerasClassifier is deprecated, use Sci-Keras (https://github.com/adriangb/scikeras) instead. See https://www.adriangb.com/scikeras/stable/migration.html for help migrating.\n",
            "  \"\"\"Entry point for launching an IPython kernel.\n"
          ]
        }
      ]
    },
    {
      "cell_type": "code",
      "source": [
        "#GridSearch parameters\n",
        "params_deep={\n",
        "    \"layout\":['3x3','5x5','2*3x3'],\n",
        "    \"dense_neurons1\":[64,128],\n",
        "    'filters':[8,18,32],\n",
        "    \"dropout\":[0.1,0.5,],\n",
        "    \"pooling\":[None,1],\n",
        "    \"epochs\":[10]}\n",
        "\n",
        "\n",
        "\n",
        "#Instantiate GridSearchCV\n",
        "gs_deep=GridSearchCV(estimator=nn_deep,param_grid=params_deep,cv=3,scoring='average_precision')\n"
      ],
      "metadata": {
        "id": "3wZWMO63zV_L"
      },
      "execution_count": 21,
      "outputs": []
    },
    {
      "cell_type": "markdown",
      "source": [
        "\n",
        "_```EarlyStopping```_ method helps to prevent overfitting in neural network as it stops training when a monitored metric has stopped improving as it's not possible to know in advance how many epochs you need to train your model on, and running the model multiple times with varying number of epochs maybe helpful, but is a time-consuming process."
      ],
      "metadata": {
        "id": "pPcfgoFO69Io"
      }
    },
    {
      "cell_type": "code",
      "source": [
        "# Defining the EarlyStopping callback\n",
        "early_stop=tf.keras.callbacks.EarlyStopping(patience=5, min_delta=.05)"
      ],
      "metadata": {
        "id": "TdyQ6P5i2MLy"
      },
      "execution_count": 22,
      "outputs": []
    },
    {
      "cell_type": "code",
      "source": [
        "#Fit the model\n",
        "# gs_deep.fit(X_train, y_train,validation_data=(X_test,y_test),callbacks=[early_stop])"
      ],
      "metadata": {
        "id": "_6N4SxeLzWJk"
      },
      "execution_count": 23,
      "outputs": []
    },
    {
      "cell_type": "code",
      "source": [
        "# print(f'Best Accuracy is {gs_deep.best_score_} \\n using {gs_deep.best_params_}')"
      ],
      "metadata": {
        "id": "InNOtK682FYu"
      },
      "execution_count": 24,
      "outputs": []
    },
    {
      "cell_type": "markdown",
      "source": [
        "The optimal parameters are:\n",
        "* dense_neurons1: 128\n",
        "*  dropout: 0.1\n",
        "*  epochs: 10\n",
        "* filters: 32\n",
        "* layout: 3x3\n",
        "* pooling: None\n",
        "\n",
        "From this grid search we find the best layout to be 2*3x3 with 32 filters. This means we will have two convolution layers with a kernel size of (3,3) representing the height and width of the filter. We will perform other iterations on the same layout but with three layers of dense neurons and different hyperparameters."
      ],
      "metadata": {
        "id": "DK0Xf__JFb0f"
      }
    },
    {
      "cell_type": "code",
      "source": [
        "#GridSearch 2 parameters\n",
        "params_deep_two={\n",
        "    \"layout\":['2*3x3'],\n",
        "    \"dense_neurons1\":[64,128,256],\n",
        "    \"dense_neurons2\":[256,512],\n",
        "    \"dense_neurons3\":[256,512],\n",
        "    'filters':[32],\n",
        "    \"dropout\":[0,0.1,0.3,0.5,],\n",
        "    \"pooling\":[None,1],\n",
        "    \"epochs\":[10]\n",
        "\n",
        "}\n",
        "\n",
        "#Instantiate GridSearchCV\n",
        "gs_deep=GridSearchCV(estimator=nn_deep,param_grid=params_deep_two,cv=3,scoring='average_precision')"
      ],
      "metadata": {
        "id": "tdlC_IenFL0q"
      },
      "execution_count": 25,
      "outputs": []
    },
    {
      "cell_type": "code",
      "source": [
        "# #Fitting the model\n",
        "# gs_deep.fit(X_train, y_train,validation_data=(X_test,y_test),callbacks=[early_stop])"
      ],
      "metadata": {
        "id": "2NqaUGOlg_JE"
      },
      "execution_count": 26,
      "outputs": []
    },
    {
      "cell_type": "code",
      "source": [
        "# print(f'Best Accuracy for {gs_deep.best_score_} \\n using {gs_deep.best_params_}')"
      ],
      "metadata": {
        "id": "3oMr4tYNqYXB"
      },
      "execution_count": 27,
      "outputs": []
    },
    {
      "cell_type": "markdown",
      "source": [
        "The optimal parameters are :\n",
        "* dense_neurons1: 256\n",
        "* dense_neurons2 : 512\n",
        "* dense_neurons3 : 512\n",
        "* dropout : 0.1\n",
        "* epochs : 10\n",
        "* filters : 32  \n",
        "* layout: 2*3x3\n",
        "* pooling : 1<br>\n",
        "\n",
        "Given that we have an accuracy of 0.998397543919476, which is better than the neural network architecture with one dense layer at 0.999687577741359  , we can take these as the parameters to build our final model."
      ],
      "metadata": {
        "id": "rsmhHT4gYYAC"
      }
    },
    {
      "cell_type": "markdown",
      "source": [
        "### 7.2 Final model\n"
      ],
      "metadata": {
        "id": "MHGQUdbSrR39"
      }
    },
    {
      "cell_type": "code",
      "source": [
        "model=Sequential()\n",
        "\n",
        "#adding first convolution layer\n",
        "model.add(Conv2D(filters=32,kernel_size=(3,3),activation='relu'))\n",
        "#maxpooling after convolution layer\n",
        "model.add(MaxPooling2D(pool_size=(2,2)))\n",
        "\n",
        "#adding another convolution layer\n",
        "model.add(Conv2D(filters=32,kernel_size=(3,3),activation='relu'))\n",
        "#maxpooling after convolution layer\n",
        "model.add(MaxPooling2D(pool_size=(2,2)))\n",
        "\n",
        "model.add(Flatten())\n",
        "\n",
        "#adding first dense layer with 256 nodes\n",
        "model.add(Dense(256, activation='relu'))\n",
        "#adding a dropout layer to avoid overfitting\n",
        "model.add(Dropout(0.3))\n",
        "\n",
        "#adding second dense layer with 512 nodes\n",
        "model.add(Dense(512, activation='relu'))\n",
        "#adding a dropout layer to avoid overfitting\n",
        "model.add(Dropout(0.3))\n",
        "\n",
        "#adding third dense layer with 512 nodes\n",
        "model.add(Dense(256, activation='relu'))\n",
        "#adding a dropout layer to avoid overfitting\n",
        "model.add(Dropout(0.3))\n",
        "\n",
        "#Output layer\n",
        "model.add(Dense(1, activation='sigmoid'))\n",
        "#compiling \n",
        "model.compile(loss='binary_crossentropy',optimizer='adam', metrics=[tf.keras.metrics.AUC(curve='PR')])\n",
        "\n"
      ],
      "metadata": {
        "id": "xEeXD7N4rCXg"
      },
      "execution_count": 28,
      "outputs": []
    },
    {
      "cell_type": "code",
      "source": [
        "#fitting on train data\n",
        "history1 = model.fit(X_train,y_train,batch_size=200, epochs=10,validation_data=(X_test, y_test))"
      ],
      "metadata": {
        "colab": {
          "base_uri": "https://localhost:8080/"
        },
        "id": "CdMw9D4yoXo9",
        "outputId": "5cf2e545-8550-4e35-9592-97f1a1df1bec"
      },
      "execution_count": 29,
      "outputs": [
        {
          "output_type": "stream",
          "name": "stdout",
          "text": [
            "Epoch 1/10\n",
            "15/15 [==============================] - 15s 68ms/step - loss: 0.6164 - auc: 0.7096 - val_loss: 0.3324 - val_auc: 0.9691\n",
            "Epoch 2/10\n",
            "15/15 [==============================] - 1s 39ms/step - loss: 0.3457 - auc: 0.9108 - val_loss: 0.2080 - val_auc: 0.9857\n",
            "Epoch 3/10\n",
            "15/15 [==============================] - 1s 39ms/step - loss: 0.1409 - auc: 0.9857 - val_loss: 0.0638 - val_auc: 0.9918\n",
            "Epoch 4/10\n",
            "15/15 [==============================] - 1s 38ms/step - loss: 0.0770 - auc: 0.9947 - val_loss: 0.0690 - val_auc: 0.9959\n",
            "Epoch 5/10\n",
            "15/15 [==============================] - 1s 40ms/step - loss: 0.0537 - auc: 0.9969 - val_loss: 0.0295 - val_auc: 0.9995\n",
            "Epoch 6/10\n",
            "15/15 [==============================] - 1s 40ms/step - loss: 0.0279 - auc: 0.9995 - val_loss: 0.0196 - val_auc: 0.9998\n",
            "Epoch 7/10\n",
            "15/15 [==============================] - 1s 39ms/step - loss: 0.0237 - auc: 0.9997 - val_loss: 0.0188 - val_auc: 0.9998\n",
            "Epoch 8/10\n",
            "15/15 [==============================] - 1s 38ms/step - loss: 0.0142 - auc: 0.9999 - val_loss: 0.0087 - val_auc: 0.9999\n",
            "Epoch 9/10\n",
            "15/15 [==============================] - 1s 38ms/step - loss: 0.0080 - auc: 0.9999 - val_loss: 0.0086 - val_auc: 1.0000\n",
            "Epoch 10/10\n",
            "15/15 [==============================] - 1s 39ms/step - loss: 0.0113 - auc: 0.9997 - val_loss: 0.0240 - val_auc: 0.9979\n"
          ]
        }
      ]
    },
    {
      "cell_type": "code",
      "source": [
        "#Inspecting the shape of our model \n",
        "model.summary()"
      ],
      "metadata": {
        "id": "qsmwcN7ssesy",
        "outputId": "d07ab0f4-7a1d-4dfb-a806-804ec67cc484",
        "colab": {
          "base_uri": "https://localhost:8080/"
        }
      },
      "execution_count": 30,
      "outputs": [
        {
          "output_type": "stream",
          "name": "stdout",
          "text": [
            "Model: \"sequential\"\n",
            "_________________________________________________________________\n",
            " Layer (type)                Output Shape              Param #   \n",
            "=================================================================\n",
            " conv2d (Conv2D)             (200, 78, 78, 32)         896       \n",
            "                                                                 \n",
            " max_pooling2d (MaxPooling2D  (200, 39, 39, 32)        0         \n",
            " )                                                               \n",
            "                                                                 \n",
            " conv2d_1 (Conv2D)           (200, 37, 37, 32)         9248      \n",
            "                                                                 \n",
            " max_pooling2d_1 (MaxPooling  (200, 18, 18, 32)        0         \n",
            " 2D)                                                             \n",
            "                                                                 \n",
            " flatten (Flatten)           (200, 10368)              0         \n",
            "                                                                 \n",
            " dense (Dense)               (200, 256)                2654464   \n",
            "                                                                 \n",
            " dropout (Dropout)           (200, 256)                0         \n",
            "                                                                 \n",
            " dense_1 (Dense)             (200, 512)                131584    \n",
            "                                                                 \n",
            " dropout_1 (Dropout)         (200, 512)                0         \n",
            "                                                                 \n",
            " dense_2 (Dense)             (200, 256)                131328    \n",
            "                                                                 \n",
            " dropout_2 (Dropout)         (200, 256)                0         \n",
            "                                                                 \n",
            " dense_3 (Dense)             (200, 1)                  257       \n",
            "                                                                 \n",
            "=================================================================\n",
            "Total params: 2,927,777\n",
            "Trainable params: 2,927,777\n",
            "Non-trainable params: 0\n",
            "_________________________________________________________________\n"
          ]
        }
      ]
    },
    {
      "cell_type": "markdown",
      "source": [
        "#### 7.2.1 Final Model evaluation"
      ],
      "metadata": {
        "id": "R4lhCvlZbuWw"
      }
    },
    {
      "cell_type": "code",
      "source": [
        "def evaluate(model):\n",
        "  results_train = model.evaluate(X_train, y_train)\n",
        "  print(f'Training Loss: {results_train[0]} \\nTraining auc score: {results_train[1]}')\n",
        "\n",
        "  print('----------')\n",
        "\n",
        "  results_test =model.evaluate(X_test, y_test)\n",
        "  print(f'Test Loss: {results_test[0]} \\nTest auc score: {results_test[1]}')\n",
        "\n",
        "\n",
        "\n",
        "\n",
        "evaluate(model) "
      ],
      "metadata": {
        "id": "hxyesaYGXsJ-",
        "colab": {
          "base_uri": "https://localhost:8080/"
        },
        "outputId": "1880defe-e473-4702-f8fd-8ebc9eef1692"
      },
      "execution_count": 31,
      "outputs": [
        {
          "output_type": "stream",
          "name": "stdout",
          "text": [
            "94/94 [==============================] - 1s 6ms/step - loss: 0.0063 - auc: 1.0000\n",
            "Training Loss: 0.006303743459284306 \n",
            "Training auc score: 0.9999932050704956\n",
            "----------\n",
            "32/32 [==============================] - 0s 7ms/step - loss: 0.0240 - auc: 0.9979\n",
            "Test Loss: 0.024016080424189568 \n",
            "Test auc score: 0.9979467391967773\n"
          ]
        }
      ]
    },
    {
      "cell_type": "code",
      "source": [
        "# Plot the loss and auc curves for training and validation \n",
        "def evaluation_visual(model,auc,val_auc):\n",
        "  fig, ax = plt.subplots(2,1,figsize=(10,8))\n",
        "  ax[0].plot(model.history['loss'], color='b', label=\"Training loss\")\n",
        "  ax[0].plot(model.history['val_loss'], color='r', label=\"validation loss\",axes =ax[0])\n",
        "  legend = ax[0].legend(loc='best', shadow=True)\n",
        " \n",
        "  ax[1].plot(model.history[auc], color='b', label=\"Training auc score\")\n",
        "  ax[1].plot(model.history[val_auc], color='r',label=\"Validation auc score\")\n",
        "  legend = ax[1].legend(loc='best', shadow=True)\n",
        "\n",
        "\n",
        "\n",
        "\n",
        "evaluation_visual(history1,'auc','val_auc')\n"
      ],
      "metadata": {
        "colab": {
          "base_uri": "https://localhost:8080/",
          "height": 490
        },
        "id": "a4g5Yn8-pOfz",
        "outputId": "9042613d-5ab3-4160-e270-8d343a9d2b37"
      },
      "execution_count": 50,
      "outputs": [
        {
          "output_type": "display_data",
          "data": {
            "text/plain": [
              "<Figure size 720x576 with 2 Axes>"
            ],
            "image/png": "[encoded data removed]"
          },
          "metadata": {}
        }
      ]
    },
    {
      "cell_type": "markdown",
      "source": [],
      "metadata": {
        "id": "nK6tSaMQPkNi"
      }
    },
    {
      "cell_type": "code",
      "source": [
        "preds=model.predict(X_test)\n",
        "\n",
        "\n"
      ],
      "metadata": {
        "id": "rNNf9OKcuQzt"
      },
      "execution_count": 35,
      "outputs": []
    },
    {
      "cell_type": "markdown",
      "source": [
        "Confusion matrix can be very helpfull to see your model drawbacks."
      ],
      "metadata": {
        "id": "RevFadTVQIi4"
      }
    },
    {
      "cell_type": "code",
      "source": [
        "confusion_matrix=tf.math.confusion_matrix(labels=y_test,predictions=preds.round()).numpy()\n",
        "\n",
        "confusion_matrix"
      ],
      "metadata": {
        "id": "_XEVnAIfu2sr",
        "outputId": "d2294d02-7ef1-493f-e4ee-12398616b186",
        "colab": {
          "base_uri": "https://localhost:8080/"
        }
      },
      "execution_count": 36,
      "outputs": [
        {
          "output_type": "execute_result",
          "data": {
            "text/plain": [
              "array([[503,   7],\n",
              "       [  0, 490]], dtype=int32)"
            ]
          },
          "metadata": {},
          "execution_count": 36
        }
      ]
    },
    {
      "cell_type": "code",
      "source": [
        "figure =plt.figure(figsize=(8,8))\n",
        "sns.set(font_scale=1.4)\n",
        "sns.heatmap(confusion_matrix,cmap=plt.cm.Blues,annot=True,fmt=\"g\")\n",
        "plt.ylabel('True Labels')\n",
        "plt.xlabel('Predicted Labels')\n",
        "plt.title('Confusion Matrix for Final Model')\n",
        "plt.show()"
      ],
      "metadata": {
        "id": "knbFYNdBv1kU",
        "outputId": "bf868471-9822-46fd-a502-cfb9d7660552",
        "colab": {
          "base_uri": "https://localhost:8080/",
          "height": 532
        }
      },
      "execution_count": 37,
      "outputs": [
        {
          "output_type": "display_data",
          "data": {
            "text/plain": [
              "<Figure size 576x576 with 2 Axes>"
            ],
            "image/png": "[encoded data removed]"
          },
          "metadata": {
            "needs_background": "light"
          }
        }
      ]
    },
    {
      "cell_type": "code",
      "source": [
        "tn, fp, fn, tp =confusion_matrix.ravel()\n",
        "recall = tp/(tp+fn)\n",
        "precision = tp/(tp+fp)\n",
        "accuracy = (tp+tn)/(tp+tn+fp+fn)\n",
        "f1_score = ((precision*recall)/(precision+recall))*2\n",
        "print(f'Precision score is:',precision)\n",
        "print(f'Recall score is:',recall)\n",
        "print(f'Accuracy score is:',accuracy)\n",
        "print(f'F1 score is:',f1_score)"
      ],
      "metadata": {
        "id": "P_BTwnrg1P6d",
        "outputId": "ccbb6cc2-3bbe-47a2-e823-605945d92693",
        "colab": {
          "base_uri": "https://localhost:8080/"
        }
      },
      "execution_count": 38,
      "outputs": [
        {
          "output_type": "stream",
          "name": "stdout",
          "text": [
            "Precision score is: 0.9859154929577465\n",
            "Recall score is: 1.0\n",
            "Accuracy score is: 0.993\n",
            "F1 score is: 0.9929078014184397\n"
          ]
        }
      ]
    },
    {
      "cell_type": "markdown",
      "source": [
        "##8. Challenging the model\n",
        "For this section, a transfer learning model will be used.Transfer learning for image classification is about leveraging feature representations from a pre-trained model, so you don't have to train a new model from scratch. The pre-trained models are usually trained on massive datasets that are a standard benchmark in the computer vision frontier.<br>\n",
        "\n",
        "More spefically in this project will use VGG19, which is an advanced network with pretrained layers and a better understanding of what defines an image in terms of shape, color, and structure. VGG19 is very deep and has been trained on millions of diverse images with complex classification tasks.\n",
        "\n",
        "VGG19 consists of 19 layers:\n",
        "\n",
        "* 16 convolution layers\n",
        "  * 5 MaxPool layers\n",
        "  * 1 SoftMax layer\n",
        "* 3 fully connected layers\n"
      ],
      "metadata": {
        "id": "0Hr6fPUUrAYB"
      }
    },
    {
      "cell_type": "code",
      "source": [
        "vgg19_model = VGG19(weights='imagenet',\n",
        "                  include_top=False,\n",
        "                  input_shape=(80, 80, 3))"
      ],
      "metadata": {
        "id": "Btbhx4pcRnoy",
        "colab": {
          "base_uri": "https://localhost:8080/"
        },
        "outputId": "bf7fd27b-9a0e-4db6-f1d4-827d4a747350"
      },
      "execution_count": 39,
      "outputs": [
        {
          "output_type": "stream",
          "name": "stdout",
          "text": [
            "Downloading data from https://storage.googleapis.com/tensorflow/keras-applications/vgg19/vgg19_weights_tf_dim_ordering_tf_kernels_notop.h5\n",
            "80142336/80134624 [==============================] - 2s 0us/step\n",
            "80150528/80134624 [==============================] - 2s 0us/step\n"
          ]
        }
      ]
    },
    {
      "cell_type": "code",
      "source": [
        "vgg19_model.summary()"
      ],
      "metadata": {
        "colab": {
          "base_uri": "https://localhost:8080/"
        },
        "id": "y_nML80PRniR",
        "outputId": "29985189-a266-4e0a-ab60-4fcc052c0ced"
      },
      "execution_count": 40,
      "outputs": [
        {
          "output_type": "stream",
          "name": "stdout",
          "text": [
            "Model: \"vgg19\"\n",
            "_________________________________________________________________\n",
            " Layer (type)                Output Shape              Param #   \n",
            "=================================================================\n",
            " input_1 (InputLayer)        [(None, 80, 80, 3)]       0         \n",
            "                                                                 \n",
            " block1_conv1 (Conv2D)       (None, 80, 80, 64)        1792      \n",
            "                                                                 \n",
            " block1_conv2 (Conv2D)       (None, 80, 80, 64)        36928     \n",
            "                                                                 \n",
            " block1_pool (MaxPooling2D)  (None, 40, 40, 64)        0         \n",
            "                                                                 \n",
            " block2_conv1 (Conv2D)       (None, 40, 40, 128)       73856     \n",
            "                                                                 \n",
            " block2_conv2 (Conv2D)       (None, 40, 40, 128)       147584    \n",
            "                                                                 \n",
            " block2_pool (MaxPooling2D)  (None, 20, 20, 128)       0         \n",
            "                                                                 \n",
            " block3_conv1 (Conv2D)       (None, 20, 20, 256)       295168    \n",
            "                                                                 \n",
            " block3_conv2 (Conv2D)       (None, 20, 20, 256)       590080    \n",
            "                                                                 \n",
            " block3_conv3 (Conv2D)       (None, 20, 20, 256)       590080    \n",
            "                                                                 \n",
            " block3_conv4 (Conv2D)       (None, 20, 20, 256)       590080    \n",
            "                                                                 \n",
            " block3_pool (MaxPooling2D)  (None, 10, 10, 256)       0         \n",
            "                                                                 \n",
            " block4_conv1 (Conv2D)       (None, 10, 10, 512)       1180160   \n",
            "                                                                 \n",
            " block4_conv2 (Conv2D)       (None, 10, 10, 512)       2359808   \n",
            "                                                                 \n",
            " block4_conv3 (Conv2D)       (None, 10, 10, 512)       2359808   \n",
            "                                                                 \n",
            " block4_conv4 (Conv2D)       (None, 10, 10, 512)       2359808   \n",
            "                                                                 \n",
            " block4_pool (MaxPooling2D)  (None, 5, 5, 512)         0         \n",
            "                                                                 \n",
            " block5_conv1 (Conv2D)       (None, 5, 5, 512)         2359808   \n",
            "                                                                 \n",
            " block5_conv2 (Conv2D)       (None, 5, 5, 512)         2359808   \n",
            "                                                                 \n",
            " block5_conv3 (Conv2D)       (None, 5, 5, 512)         2359808   \n",
            "                                                                 \n",
            " block5_conv4 (Conv2D)       (None, 5, 5, 512)         2359808   \n",
            "                                                                 \n",
            " block5_pool (MaxPooling2D)  (None, 2, 2, 512)         0         \n",
            "                                                                 \n",
            "=================================================================\n",
            "Total params: 20,024,384\n",
            "Trainable params: 20,024,384\n",
            "Non-trainable params: 0\n",
            "_________________________________________________________________\n"
          ]
        }
      ]
    },
    {
      "cell_type": "code",
      "source": [
        "#Add the pretrained model as the first layer and adding dense layers\n",
        "vgg_model =Sequential()\n",
        "vgg_model.add(vgg19_model)\n",
        "vgg_model.add(layers.Flatten())\n",
        "vgg_model.add(layers.Dense(132, activation='relu'))\n",
        "vgg_model.add(layers.Dense(1, activation='sigmoid'))"
      ],
      "metadata": {
        "id": "G2Wm-qvGBpZg"
      },
      "execution_count": 41,
      "outputs": []
    },
    {
      "cell_type": "markdown",
      "source": [
        "###Freezing layers\n",
        " This means that all of the weights associated with that layer(s) will remain unchanged through the optimization process. Freezing the base is important as you wish to preserve the features encoded in this CNN base. Without this, the volatile gradients will quickly erase the useful features of the pretrained model."
      ],
      "metadata": {
        "id": "-QBTEA8DDf8t"
      }
    },
    {
      "cell_type": "code",
      "source": [
        "# Checking whether a layer is trainable\n",
        "for layer in vgg_model.layers:\n",
        "    print(layer.name, layer.trainable)\n",
        "    \n",
        "# Checking how many trainable weights are in the model\n",
        "print(len(vgg_model.trainable_weights))"
      ],
      "metadata": {
        "id": "PHNw5gzaDfWc",
        "outputId": "1aaed292-8af1-4ced-8530-f58421460a42",
        "colab": {
          "base_uri": "https://localhost:8080/"
        }
      },
      "execution_count": 42,
      "outputs": [
        {
          "output_type": "stream",
          "name": "stdout",
          "text": [
            "vgg19 True\n",
            "flatten_1 True\n",
            "dense_4 True\n",
            "dense_5 True\n",
            "36\n"
          ]
        }
      ]
    },
    {
      "cell_type": "code",
      "source": [
        "# freezing the layers\n",
        "vgg19_model.trainable=False"
      ],
      "metadata": {
        "id": "CYgxx0nBYEuE"
      },
      "execution_count": 43,
      "outputs": []
    },
    {
      "cell_type": "code",
      "source": [
        "#Confirming the base model is frozen\n",
        "for layer in vgg_model.layers:\n",
        "    print(layer.name, layer.trainable)\n",
        "print(len(vgg_model.trainable_weights))\n"
      ],
      "metadata": {
        "id": "zeay0oFDC6hW",
        "outputId": "35154d47-e83f-4b26-c2f3-a2727f56cb2d",
        "colab": {
          "base_uri": "https://localhost:8080/"
        }
      },
      "execution_count": 44,
      "outputs": [
        {
          "output_type": "stream",
          "name": "stdout",
          "text": [
            "vgg19 False\n",
            "flatten_1 True\n",
            "dense_4 True\n",
            "dense_5 True\n",
            "4\n"
          ]
        }
      ]
    },
    {
      "cell_type": "code",
      "source": [
        "#compiling \n",
        "vgg_model.compile(loss='binary_crossentropy',optimizer='adam', metrics=[tf.keras.metrics.AUC(curve='PR')])\n",
        "\n",
        "#fitting on train data\n",
        "history2 = vgg_model.fit(X_train,y_train,batch_size=200, epochs=10,validation_data=(X_test, y_test))"
      ],
      "metadata": {
        "id": "BjSyBwtcHQdI",
        "colab": {
          "base_uri": "https://localhost:8080/"
        },
        "outputId": "2cd228fd-a765-42a0-b1cd-434880937d94"
      },
      "execution_count": 45,
      "outputs": [
        {
          "output_type": "stream",
          "name": "stdout",
          "text": [
            "Epoch 1/10\n",
            "15/15 [==============================] - 7s 252ms/step - loss: 0.4475 - auc_1: 0.8810 - val_loss: 0.3414 - val_auc_1: 0.9547\n",
            "Epoch 2/10\n",
            "15/15 [==============================] - 3s 224ms/step - loss: 0.3169 - auc_1: 0.9691 - val_loss: 0.2755 - val_auc_1: 0.9823\n",
            "Epoch 3/10\n",
            "15/15 [==============================] - 4s 255ms/step - loss: 0.2510 - auc_1: 0.9836 - val_loss: 0.2175 - val_auc_1: 0.9885\n",
            "Epoch 4/10\n",
            "15/15 [==============================] - 3s 223ms/step - loss: 0.2106 - auc_1: 0.9839 - val_loss: 0.1799 - val_auc_1: 0.9920\n",
            "Epoch 5/10\n",
            "15/15 [==============================] - 3s 223ms/step - loss: 0.1743 - auc_1: 0.9900 - val_loss: 0.1589 - val_auc_1: 0.9948\n",
            "Epoch 6/10\n",
            "15/15 [==============================] - 3s 224ms/step - loss: 0.1555 - auc_1: 0.9907 - val_loss: 0.1463 - val_auc_1: 0.9973\n",
            "Epoch 7/10\n",
            "15/15 [==============================] - 3s 225ms/step - loss: 0.1347 - auc_1: 0.9941 - val_loss: 0.1225 - val_auc_1: 0.9981\n",
            "Epoch 8/10\n",
            "15/15 [==============================] - 3s 226ms/step - loss: 0.1192 - auc_1: 0.9957 - val_loss: 0.1091 - val_auc_1: 0.9987\n",
            "Epoch 9/10\n",
            "15/15 [==============================] - 3s 227ms/step - loss: 0.1026 - auc_1: 0.9980 - val_loss: 0.0930 - val_auc_1: 0.9991\n",
            "Epoch 10/10\n",
            "15/15 [==============================] - 3s 228ms/step - loss: 0.0955 - auc_1: 0.9984 - val_loss: 0.0859 - val_auc_1: 0.9994\n"
          ]
        }
      ]
    },
    {
      "cell_type": "code",
      "source": [
        "vgg_model.summary()"
      ],
      "metadata": {
        "id": "gFVUJDXvj_Qx",
        "colab": {
          "base_uri": "https://localhost:8080/"
        },
        "outputId": "f18a323e-4eb0-4a75-8534-25a5cb9f75ef"
      },
      "execution_count": 46,
      "outputs": [
        {
          "output_type": "stream",
          "name": "stdout",
          "text": [
            "Model: \"sequential_1\"\n",
            "_________________________________________________________________\n",
            " Layer (type)                Output Shape              Param #   \n",
            "=================================================================\n",
            " vgg19 (Functional)          (None, 2, 2, 512)         20024384  \n",
            "                                                                 \n",
            " flatten_1 (Flatten)         (None, 2048)              0         \n",
            "                                                                 \n",
            " dense_4 (Dense)             (None, 132)               270468    \n",
            "                                                                 \n",
            " dense_5 (Dense)             (None, 1)                 133       \n",
            "                                                                 \n",
            "=================================================================\n",
            "Total params: 20,294,985\n",
            "Trainable params: 270,601\n",
            "Non-trainable params: 20,024,384\n",
            "_________________________________________________________________\n"
          ]
        }
      ]
    },
    {
      "cell_type": "code",
      "source": [
        "evaluate(vgg_model)"
      ],
      "metadata": {
        "id": "cz2WwT5Rj_H5",
        "colab": {
          "base_uri": "https://localhost:8080/"
        },
        "outputId": "f6027b9b-8bc6-4268-8e32-c1e6eb024e04"
      },
      "execution_count": 47,
      "outputs": [
        {
          "output_type": "stream",
          "name": "stdout",
          "text": [
            "94/94 [==============================] - 5s 40ms/step - loss: 0.0901 - auc_1: 0.9991\n",
            "Training Loss: 0.09013861417770386 \n",
            "Training auc score: 0.9990838766098022\n",
            "----------\n",
            "32/32 [==============================] - 1s 44ms/step - loss: 0.0859 - auc_1: 0.9994\n",
            "Test Loss: 0.08594292402267456 \n",
            "Test auc score: 0.9994001388549805\n"
          ]
        }
      ]
    },
    {
      "cell_type": "code",
      "source": [
        "evaluation_visual(history2,'auc_1','val_auc_1')"
      ],
      "metadata": {
        "id": "fTIvwfWOCYsF",
        "outputId": "626ec386-682c-48ef-fd71-0e159529fc3f",
        "colab": {
          "base_uri": "https://localhost:8080/",
          "height": 490
        }
      },
      "execution_count": 52,
      "outputs": [
        {
          "output_type": "display_data",
          "data": {
            "text/plain": [
              "<Figure size 720x576 with 2 Axes>"
            ],
            "image/png": "[encoded data removed]"
          },
          "metadata": {}
        }
      ]
    },
    {
      "cell_type": "markdown",
      "source": [
        "Saving the model"
      ],
      "metadata": {
        "id": "96JfSeNy-zvi"
      }
    },
    {
      "cell_type": "code",
      "source": [
        "# saving the model\n",
        "model.save(\"./webcam_script/final_model1.h5\")"
      ],
      "metadata": {
        "id": "EV7umIf25_xZ"
      },
      "execution_count": 53,
      "outputs": []
    }
  ]
}