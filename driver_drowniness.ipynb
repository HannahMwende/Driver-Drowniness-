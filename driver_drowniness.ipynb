{
  "nbformat": 4,
  "nbformat_minor": 0,
  "metadata": {
    "colab": {
      "provenance": [],
      "toc_visible": true,
      "authorship_tag": "ABX9TyPgQz2M2y54BzuMIu/D4CJx",
      "include_colab_link": true
    },
    "kernelspec": {
      "name": "python3",
      "display_name": "Python 3"
    },
    "language_info": {
      "name": "python"
    }
  },
  "cells": [
    {
      "cell_type": "markdown",
      "metadata": {
        "id": "view-in-github",
        "colab_type": "text"
      },
      "source": [
        "<a href=\"https://colab.research.google.com/github/HannahMwende/Driver-Drowniness-dectection-system/blob/main/driver_drowniness.ipynb\" target=\"_parent\"><img src=\"https://colab.research.google.com/assets/colab-badge.svg\" alt=\"Open In Colab\"/></a>"
      ]
    },
    {
      "cell_type": "markdown",
      "source": [
        "# BUSINESS UNDERSTANDING\n",
        "## Problem Statement\n",
        "The number of people killed and injured in road crashes in Kenya went up by 17.5% in September 2021  as compared to the same period in 2020, according to NTSA. Falling asleep on the wheel is one of the major causes of these accidents. Research has indicated that going more than 20 hours without sleep is the equivalent of having a blood-alcohol concentration of 0.08%.\n",
        "Because of this serious problem, we would like to propose to develop a neural network that can detect if eyes are open or closed and when applied together with computer vision, to detect if a live human has had their eyes closed for more than two seconds.\n",
        "\n",
        "\n",
        "\n",
        "\n",
        "## Metric of sucess\n",
        "Our model will be considered successful if an AUC score of 0.97  will be attained .\n",
        "## Understanding the problem context\n",
        "\n",
        "\n",
        "\n",
        "\n",
        "## Defining Experimental design\n",
        "* Import the relevant libraries used in the analysis.\n",
        "\n",
        "* Load and preview the dataset\n",
        "\n",
        "* Read and explore the dataset we will use for our project.\n",
        "\n",
        "* Data Cleaning & Preparation\n",
        "\n",
        "* Exploratory Data Analysis (EDA)\n",
        "\n",
        "* Data Pre-processing\n",
        "\n",
        "* Modelling & Evaluation\n",
        "\n",
        "* Challenging the model\n",
        "\n",
        "* Conclusion\n",
        "\n",
        "* Recommendations\n",
        "\n",
        "#Data understanding\n",
        "The data is from [Kaggle](<https://www.kaggle.com/datasets/prasadvpatil/mrl-dataset>) and it contains images of closed and open eyes"
      ],
      "metadata": {
        "id": "8301NRl8CLsu"
      }
    },
    {
      "cell_type": "code",
      "execution_count": null,
      "metadata": {
        "id": "EpxAUbrEzfKP"
      },
      "outputs": [],
      "source": []
    }
  ]
}